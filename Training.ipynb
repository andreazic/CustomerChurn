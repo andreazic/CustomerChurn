{
  "nbformat": 4,
  "nbformat_minor": 0,
  "metadata": {
    "colab": {
      "name": "Training.ipynb",
      "provenance": [],
      "collapsed_sections": []
    },
    "kernelspec": {
      "name": "python3",
      "display_name": "Python 3"
    },
    "language_info": {
      "name": "python"
    }
  },
  "cells": [
    {
      "cell_type": "code",
      "metadata": {
        "colab": {
          "base_uri": "https://localhost:8080/"
        },
        "id": "14AbrzKd95Ls",
        "outputId": "b678585d-5079-42d8-c5ae-0fb41cdd258d"
      },
      "source": [
        "!pip install -r requirements.txt"
      ],
      "execution_count": 176,
      "outputs": [
        {
          "output_type": "stream",
          "text": [
            "Requirement already satisfied: matplotlib==3.2.2 in /usr/local/lib/python3.7/dist-packages (from -r requirements.txt (line 1)) (3.2.2)\n",
            "Requirement already satisfied: numpy==1.19.5 in /usr/local/lib/python3.7/dist-packages (from -r requirements.txt (line 2)) (1.19.5)\n",
            "Requirement already satisfied: pandas==1.1.5 in /usr/local/lib/python3.7/dist-packages (from -r requirements.txt (line 3)) (1.1.5)\n",
            "Requirement already satisfied: seaborn==0.11.1 in /usr/local/lib/python3.7/dist-packages (from -r requirements.txt (line 4)) (0.11.1)\n",
            "Requirement already satisfied: scikit-image==0.16.2 in /usr/local/lib/python3.7/dist-packages (from -r requirements.txt (line 5)) (0.16.2)\n",
            "Requirement already satisfied: scikit-learn==0.22.2.post1 in /usr/local/lib/python3.7/dist-packages (from -r requirements.txt (line 6)) (0.22.2.post1)\n",
            "Requirement already satisfied: sklearn==0.0 in /usr/local/lib/python3.7/dist-packages (from -r requirements.txt (line 7)) (0.0)\n",
            "Requirement already satisfied: sklearn-pandas==1.8.0 in /usr/local/lib/python3.7/dist-packages (from -r requirements.txt (line 8)) (1.8.0)\n",
            "Requirement already satisfied: cycler>=0.10 in /usr/local/lib/python3.7/dist-packages (from matplotlib==3.2.2->-r requirements.txt (line 1)) (0.10.0)\n",
            "Requirement already satisfied: pyparsing!=2.0.4,!=2.1.2,!=2.1.6,>=2.0.1 in /usr/local/lib/python3.7/dist-packages (from matplotlib==3.2.2->-r requirements.txt (line 1)) (2.4.7)\n",
            "Requirement already satisfied: python-dateutil>=2.1 in /usr/local/lib/python3.7/dist-packages (from matplotlib==3.2.2->-r requirements.txt (line 1)) (2.8.1)\n",
            "Requirement already satisfied: kiwisolver>=1.0.1 in /usr/local/lib/python3.7/dist-packages (from matplotlib==3.2.2->-r requirements.txt (line 1)) (1.3.1)\n",
            "Requirement already satisfied: pytz>=2017.2 in /usr/local/lib/python3.7/dist-packages (from pandas==1.1.5->-r requirements.txt (line 3)) (2018.9)\n",
            "Requirement already satisfied: scipy>=1.0 in /usr/local/lib/python3.7/dist-packages (from seaborn==0.11.1->-r requirements.txt (line 4)) (1.4.1)\n",
            "Requirement already satisfied: networkx>=2.0 in /usr/local/lib/python3.7/dist-packages (from scikit-image==0.16.2->-r requirements.txt (line 5)) (2.5.1)\n",
            "Requirement already satisfied: imageio>=2.3.0 in /usr/local/lib/python3.7/dist-packages (from scikit-image==0.16.2->-r requirements.txt (line 5)) (2.4.1)\n",
            "Requirement already satisfied: PyWavelets>=0.4.0 in /usr/local/lib/python3.7/dist-packages (from scikit-image==0.16.2->-r requirements.txt (line 5)) (1.1.1)\n",
            "Requirement already satisfied: pillow>=4.3.0 in /usr/local/lib/python3.7/dist-packages (from scikit-image==0.16.2->-r requirements.txt (line 5)) (7.1.2)\n",
            "Requirement already satisfied: joblib>=0.11 in /usr/local/lib/python3.7/dist-packages (from scikit-learn==0.22.2.post1->-r requirements.txt (line 6)) (1.0.1)\n",
            "Requirement already satisfied: six in /usr/local/lib/python3.7/dist-packages (from cycler>=0.10->matplotlib==3.2.2->-r requirements.txt (line 1)) (1.15.0)\n",
            "Requirement already satisfied: decorator<5,>=4.3 in /usr/local/lib/python3.7/dist-packages (from networkx>=2.0->scikit-image==0.16.2->-r requirements.txt (line 5)) (4.4.2)\n"
          ],
          "name": "stdout"
        }
      ]
    },
    {
      "cell_type": "code",
      "metadata": {
        "id": "9heeGBMLhI7t"
      },
      "source": [
        "#Imports\n",
        "import pandas as pd\n",
        "import numpy as np\n",
        "import seaborn as sns\n",
        "import matplotlib.pyplot as plt\n",
        "\n",
        "from sklearn import preprocessing\n",
        "from sklearn.metrics import accuracy_score\n",
        "from sklearn import metrics\n",
        "from sklearn.metrics import accuracy_score\n",
        "from sklearn.ensemble import RandomForestClassifier"
      ],
      "execution_count": 177,
      "outputs": []
    },
    {
      "cell_type": "code",
      "metadata": {
        "id": "zXF3iOLAiTTu"
      },
      "source": [
        "#Dataset import\n",
        "train = pd.read_csv('train.csv')\n",
        "test = pd.read_csv('test.csv')"
      ],
      "execution_count": 178,
      "outputs": []
    },
    {
      "cell_type": "code",
      "metadata": {
        "colab": {
          "base_uri": "https://localhost:8080/",
          "height": 419
        },
        "id": "fXF8RJb5ij4j",
        "outputId": "a6b3d970-00a5-497c-f55b-43069c8174d8"
      },
      "source": [
        "#Show train dataset\n",
        "train"
      ],
      "execution_count": 179,
      "outputs": [
        {
          "output_type": "execute_result",
          "data": {
            "text/html": [
              "<div>\n",
              "<style scoped>\n",
              "    .dataframe tbody tr th:only-of-type {\n",
              "        vertical-align: middle;\n",
              "    }\n",
              "\n",
              "    .dataframe tbody tr th {\n",
              "        vertical-align: top;\n",
              "    }\n",
              "\n",
              "    .dataframe thead th {\n",
              "        text-align: right;\n",
              "    }\n",
              "</style>\n",
              "<table border=\"1\" class=\"dataframe\">\n",
              "  <thead>\n",
              "    <tr style=\"text-align: right;\">\n",
              "      <th></th>\n",
              "      <th>Exited</th>\n",
              "      <th>RowNumber</th>\n",
              "      <th>CustomerId</th>\n",
              "      <th>Surname</th>\n",
              "      <th>CreditScore</th>\n",
              "      <th>Geography</th>\n",
              "      <th>Gender</th>\n",
              "      <th>Age</th>\n",
              "      <th>Tenure</th>\n",
              "      <th>Balance</th>\n",
              "      <th>NumOfProducts</th>\n",
              "      <th>HasCrCard</th>\n",
              "      <th>IsActiveMember</th>\n",
              "      <th>EstimatedSalary</th>\n",
              "    </tr>\n",
              "  </thead>\n",
              "  <tbody>\n",
              "    <tr>\n",
              "      <th>0</th>\n",
              "      <td>0</td>\n",
              "      <td>1725</td>\n",
              "      <td>15612627</td>\n",
              "      <td>Ozuluonye</td>\n",
              "      <td>627</td>\n",
              "      <td>Germany</td>\n",
              "      <td>Male</td>\n",
              "      <td>29</td>\n",
              "      <td>5</td>\n",
              "      <td>139541.58</td>\n",
              "      <td>2</td>\n",
              "      <td>1</td>\n",
              "      <td>0</td>\n",
              "      <td>80607.33</td>\n",
              "    </tr>\n",
              "    <tr>\n",
              "      <th>1</th>\n",
              "      <td>0</td>\n",
              "      <td>5731</td>\n",
              "      <td>15577683</td>\n",
              "      <td>Maclean</td>\n",
              "      <td>539</td>\n",
              "      <td>France</td>\n",
              "      <td>Female</td>\n",
              "      <td>29</td>\n",
              "      <td>4</td>\n",
              "      <td>0.00</td>\n",
              "      <td>2</td>\n",
              "      <td>1</td>\n",
              "      <td>1</td>\n",
              "      <td>100919.19</td>\n",
              "    </tr>\n",
              "    <tr>\n",
              "      <th>2</th>\n",
              "      <td>0</td>\n",
              "      <td>5074</td>\n",
              "      <td>15800295</td>\n",
              "      <td>Cruz</td>\n",
              "      <td>644</td>\n",
              "      <td>Germany</td>\n",
              "      <td>Male</td>\n",
              "      <td>34</td>\n",
              "      <td>9</td>\n",
              "      <td>112746.54</td>\n",
              "      <td>2</td>\n",
              "      <td>0</td>\n",
              "      <td>0</td>\n",
              "      <td>141230.07</td>\n",
              "    </tr>\n",
              "    <tr>\n",
              "      <th>3</th>\n",
              "      <td>0</td>\n",
              "      <td>4636</td>\n",
              "      <td>15761024</td>\n",
              "      <td>Long</td>\n",
              "      <td>619</td>\n",
              "      <td>France</td>\n",
              "      <td>Female</td>\n",
              "      <td>33</td>\n",
              "      <td>2</td>\n",
              "      <td>167733.51</td>\n",
              "      <td>2</td>\n",
              "      <td>1</td>\n",
              "      <td>1</td>\n",
              "      <td>65222.48</td>\n",
              "    </tr>\n",
              "    <tr>\n",
              "      <th>4</th>\n",
              "      <td>0</td>\n",
              "      <td>9628</td>\n",
              "      <td>15689322</td>\n",
              "      <td>Bevan</td>\n",
              "      <td>641</td>\n",
              "      <td>Spain</td>\n",
              "      <td>Male</td>\n",
              "      <td>31</td>\n",
              "      <td>3</td>\n",
              "      <td>153316.14</td>\n",
              "      <td>1</td>\n",
              "      <td>1</td>\n",
              "      <td>0</td>\n",
              "      <td>59927.99</td>\n",
              "    </tr>\n",
              "    <tr>\n",
              "      <th>...</th>\n",
              "      <td>...</td>\n",
              "      <td>...</td>\n",
              "      <td>...</td>\n",
              "      <td>...</td>\n",
              "      <td>...</td>\n",
              "      <td>...</td>\n",
              "      <td>...</td>\n",
              "      <td>...</td>\n",
              "      <td>...</td>\n",
              "      <td>...</td>\n",
              "      <td>...</td>\n",
              "      <td>...</td>\n",
              "      <td>...</td>\n",
              "      <td>...</td>\n",
              "    </tr>\n",
              "    <tr>\n",
              "      <th>6395</th>\n",
              "      <td>0</td>\n",
              "      <td>3023</td>\n",
              "      <td>15678168</td>\n",
              "      <td>Gibson</td>\n",
              "      <td>648</td>\n",
              "      <td>Spain</td>\n",
              "      <td>Female</td>\n",
              "      <td>27</td>\n",
              "      <td>7</td>\n",
              "      <td>0.00</td>\n",
              "      <td>2</td>\n",
              "      <td>1</td>\n",
              "      <td>1</td>\n",
              "      <td>163060.43</td>\n",
              "    </tr>\n",
              "    <tr>\n",
              "      <th>6396</th>\n",
              "      <td>0</td>\n",
              "      <td>3485</td>\n",
              "      <td>15643679</td>\n",
              "      <td>Goliwe</td>\n",
              "      <td>784</td>\n",
              "      <td>Germany</td>\n",
              "      <td>Male</td>\n",
              "      <td>28</td>\n",
              "      <td>2</td>\n",
              "      <td>70233.74</td>\n",
              "      <td>2</td>\n",
              "      <td>1</td>\n",
              "      <td>1</td>\n",
              "      <td>179252.73</td>\n",
              "    </tr>\n",
              "    <tr>\n",
              "      <th>6397</th>\n",
              "      <td>0</td>\n",
              "      <td>9349</td>\n",
              "      <td>15807239</td>\n",
              "      <td>Lung</td>\n",
              "      <td>664</td>\n",
              "      <td>France</td>\n",
              "      <td>Female</td>\n",
              "      <td>34</td>\n",
              "      <td>7</td>\n",
              "      <td>93920.47</td>\n",
              "      <td>1</td>\n",
              "      <td>0</td>\n",
              "      <td>0</td>\n",
              "      <td>179913.98</td>\n",
              "    </tr>\n",
              "    <tr>\n",
              "      <th>6398</th>\n",
              "      <td>0</td>\n",
              "      <td>4136</td>\n",
              "      <td>15789874</td>\n",
              "      <td>Wang</td>\n",
              "      <td>712</td>\n",
              "      <td>France</td>\n",
              "      <td>Female</td>\n",
              "      <td>29</td>\n",
              "      <td>3</td>\n",
              "      <td>87375.78</td>\n",
              "      <td>2</td>\n",
              "      <td>0</td>\n",
              "      <td>0</td>\n",
              "      <td>166194.53</td>\n",
              "    </tr>\n",
              "    <tr>\n",
              "      <th>6399</th>\n",
              "      <td>0</td>\n",
              "      <td>2879</td>\n",
              "      <td>15667751</td>\n",
              "      <td>Herrera</td>\n",
              "      <td>487</td>\n",
              "      <td>Spain</td>\n",
              "      <td>Female</td>\n",
              "      <td>36</td>\n",
              "      <td>1</td>\n",
              "      <td>140137.15</td>\n",
              "      <td>1</td>\n",
              "      <td>1</td>\n",
              "      <td>0</td>\n",
              "      <td>194073.33</td>\n",
              "    </tr>\n",
              "  </tbody>\n",
              "</table>\n",
              "<p>6400 rows × 14 columns</p>\n",
              "</div>"
            ],
            "text/plain": [
              "      Exited  RowNumber  CustomerId  ... HasCrCard  IsActiveMember EstimatedSalary\n",
              "0          0       1725    15612627  ...         1               0        80607.33\n",
              "1          0       5731    15577683  ...         1               1       100919.19\n",
              "2          0       5074    15800295  ...         0               0       141230.07\n",
              "3          0       4636    15761024  ...         1               1        65222.48\n",
              "4          0       9628    15689322  ...         1               0        59927.99\n",
              "...      ...        ...         ...  ...       ...             ...             ...\n",
              "6395       0       3023    15678168  ...         1               1       163060.43\n",
              "6396       0       3485    15643679  ...         1               1       179252.73\n",
              "6397       0       9349    15807239  ...         0               0       179913.98\n",
              "6398       0       4136    15789874  ...         0               0       166194.53\n",
              "6399       0       2879    15667751  ...         1               0       194073.33\n",
              "\n",
              "[6400 rows x 14 columns]"
            ]
          },
          "metadata": {
            "tags": []
          },
          "execution_count": 179
        }
      ]
    },
    {
      "cell_type": "code",
      "metadata": {
        "colab": {
          "base_uri": "https://localhost:8080/",
          "height": 419
        },
        "id": "F4pppyy1i0OO",
        "outputId": "c405e1b4-dcfd-4b9f-dff5-78f14f21eb30"
      },
      "source": [
        "#Show test dataset\n",
        "test"
      ],
      "execution_count": 180,
      "outputs": [
        {
          "output_type": "execute_result",
          "data": {
            "text/html": [
              "<div>\n",
              "<style scoped>\n",
              "    .dataframe tbody tr th:only-of-type {\n",
              "        vertical-align: middle;\n",
              "    }\n",
              "\n",
              "    .dataframe tbody tr th {\n",
              "        vertical-align: top;\n",
              "    }\n",
              "\n",
              "    .dataframe thead th {\n",
              "        text-align: right;\n",
              "    }\n",
              "</style>\n",
              "<table border=\"1\" class=\"dataframe\">\n",
              "  <thead>\n",
              "    <tr style=\"text-align: right;\">\n",
              "      <th></th>\n",
              "      <th>Exited</th>\n",
              "      <th>RowNumber</th>\n",
              "      <th>CustomerId</th>\n",
              "      <th>Surname</th>\n",
              "      <th>CreditScore</th>\n",
              "      <th>Geography</th>\n",
              "      <th>Gender</th>\n",
              "      <th>Age</th>\n",
              "      <th>Tenure</th>\n",
              "      <th>Balance</th>\n",
              "      <th>NumOfProducts</th>\n",
              "      <th>HasCrCard</th>\n",
              "      <th>IsActiveMember</th>\n",
              "      <th>EstimatedSalary</th>\n",
              "    </tr>\n",
              "  </thead>\n",
              "  <tbody>\n",
              "    <tr>\n",
              "      <th>0</th>\n",
              "      <td>0</td>\n",
              "      <td>2915</td>\n",
              "      <td>15733883</td>\n",
              "      <td>Ward</td>\n",
              "      <td>604</td>\n",
              "      <td>France</td>\n",
              "      <td>Male</td>\n",
              "      <td>28</td>\n",
              "      <td>7</td>\n",
              "      <td>0.00</td>\n",
              "      <td>2</td>\n",
              "      <td>0</td>\n",
              "      <td>0</td>\n",
              "      <td>58595.64</td>\n",
              "    </tr>\n",
              "    <tr>\n",
              "      <th>1</th>\n",
              "      <td>0</td>\n",
              "      <td>8983</td>\n",
              "      <td>15627971</td>\n",
              "      <td>Coates</td>\n",
              "      <td>504</td>\n",
              "      <td>France</td>\n",
              "      <td>Female</td>\n",
              "      <td>32</td>\n",
              "      <td>8</td>\n",
              "      <td>206663.75</td>\n",
              "      <td>1</td>\n",
              "      <td>0</td>\n",
              "      <td>0</td>\n",
              "      <td>16281.94</td>\n",
              "    </tr>\n",
              "    <tr>\n",
              "      <th>2</th>\n",
              "      <td>1</td>\n",
              "      <td>6319</td>\n",
              "      <td>15686835</td>\n",
              "      <td>Crawford</td>\n",
              "      <td>738</td>\n",
              "      <td>Germany</td>\n",
              "      <td>Female</td>\n",
              "      <td>57</td>\n",
              "      <td>9</td>\n",
              "      <td>148384.64</td>\n",
              "      <td>1</td>\n",
              "      <td>0</td>\n",
              "      <td>0</td>\n",
              "      <td>155047.11</td>\n",
              "    </tr>\n",
              "    <tr>\n",
              "      <th>3</th>\n",
              "      <td>0</td>\n",
              "      <td>2683</td>\n",
              "      <td>15732102</td>\n",
              "      <td>Darling</td>\n",
              "      <td>656</td>\n",
              "      <td>Germany</td>\n",
              "      <td>Female</td>\n",
              "      <td>27</td>\n",
              "      <td>3</td>\n",
              "      <td>150905.03</td>\n",
              "      <td>2</td>\n",
              "      <td>1</td>\n",
              "      <td>0</td>\n",
              "      <td>16998.72</td>\n",
              "    </tr>\n",
              "    <tr>\n",
              "      <th>4</th>\n",
              "      <td>1</td>\n",
              "      <td>1918</td>\n",
              "      <td>15699772</td>\n",
              "      <td>Barclay</td>\n",
              "      <td>428</td>\n",
              "      <td>Germany</td>\n",
              "      <td>Female</td>\n",
              "      <td>40</td>\n",
              "      <td>3</td>\n",
              "      <td>129248.11</td>\n",
              "      <td>2</td>\n",
              "      <td>1</td>\n",
              "      <td>0</td>\n",
              "      <td>72876.43</td>\n",
              "    </tr>\n",
              "    <tr>\n",
              "      <th>...</th>\n",
              "      <td>...</td>\n",
              "      <td>...</td>\n",
              "      <td>...</td>\n",
              "      <td>...</td>\n",
              "      <td>...</td>\n",
              "      <td>...</td>\n",
              "      <td>...</td>\n",
              "      <td>...</td>\n",
              "      <td>...</td>\n",
              "      <td>...</td>\n",
              "      <td>...</td>\n",
              "      <td>...</td>\n",
              "      <td>...</td>\n",
              "      <td>...</td>\n",
              "    </tr>\n",
              "    <tr>\n",
              "      <th>1595</th>\n",
              "      <td>0</td>\n",
              "      <td>827</td>\n",
              "      <td>15660535</td>\n",
              "      <td>Avent</td>\n",
              "      <td>680</td>\n",
              "      <td>France</td>\n",
              "      <td>Female</td>\n",
              "      <td>47</td>\n",
              "      <td>5</td>\n",
              "      <td>0.00</td>\n",
              "      <td>2</td>\n",
              "      <td>1</td>\n",
              "      <td>1</td>\n",
              "      <td>179843.33</td>\n",
              "    </tr>\n",
              "    <tr>\n",
              "      <th>1596</th>\n",
              "      <td>0</td>\n",
              "      <td>5066</td>\n",
              "      <td>15775709</td>\n",
              "      <td>Nucci</td>\n",
              "      <td>832</td>\n",
              "      <td>France</td>\n",
              "      <td>Female</td>\n",
              "      <td>27</td>\n",
              "      <td>10</td>\n",
              "      <td>98590.25</td>\n",
              "      <td>1</td>\n",
              "      <td>1</td>\n",
              "      <td>0</td>\n",
              "      <td>30912.89</td>\n",
              "    </tr>\n",
              "    <tr>\n",
              "      <th>1597</th>\n",
              "      <td>0</td>\n",
              "      <td>8390</td>\n",
              "      <td>15715345</td>\n",
              "      <td>Sergeyeva</td>\n",
              "      <td>743</td>\n",
              "      <td>Spain</td>\n",
              "      <td>Male</td>\n",
              "      <td>25</td>\n",
              "      <td>6</td>\n",
              "      <td>0.00</td>\n",
              "      <td>2</td>\n",
              "      <td>1</td>\n",
              "      <td>0</td>\n",
              "      <td>129740.11</td>\n",
              "    </tr>\n",
              "    <tr>\n",
              "      <th>1598</th>\n",
              "      <td>0</td>\n",
              "      <td>4844</td>\n",
              "      <td>15736254</td>\n",
              "      <td>Ch'ang</td>\n",
              "      <td>654</td>\n",
              "      <td>France</td>\n",
              "      <td>Male</td>\n",
              "      <td>29</td>\n",
              "      <td>2</td>\n",
              "      <td>91955.61</td>\n",
              "      <td>1</td>\n",
              "      <td>1</td>\n",
              "      <td>0</td>\n",
              "      <td>37065.66</td>\n",
              "    </tr>\n",
              "    <tr>\n",
              "      <th>1599</th>\n",
              "      <td>1</td>\n",
              "      <td>7555</td>\n",
              "      <td>15569917</td>\n",
              "      <td>Obijiaku</td>\n",
              "      <td>706</td>\n",
              "      <td>Spain</td>\n",
              "      <td>Male</td>\n",
              "      <td>30</td>\n",
              "      <td>6</td>\n",
              "      <td>87609.68</td>\n",
              "      <td>2</td>\n",
              "      <td>0</td>\n",
              "      <td>0</td>\n",
              "      <td>137674.55</td>\n",
              "    </tr>\n",
              "  </tbody>\n",
              "</table>\n",
              "<p>1600 rows × 14 columns</p>\n",
              "</div>"
            ],
            "text/plain": [
              "      Exited  RowNumber  CustomerId  ... HasCrCard  IsActiveMember EstimatedSalary\n",
              "0          0       2915    15733883  ...         0               0        58595.64\n",
              "1          0       8983    15627971  ...         0               0        16281.94\n",
              "2          1       6319    15686835  ...         0               0       155047.11\n",
              "3          0       2683    15732102  ...         1               0        16998.72\n",
              "4          1       1918    15699772  ...         1               0        72876.43\n",
              "...      ...        ...         ...  ...       ...             ...             ...\n",
              "1595       0        827    15660535  ...         1               1       179843.33\n",
              "1596       0       5066    15775709  ...         1               0        30912.89\n",
              "1597       0       8390    15715345  ...         1               0       129740.11\n",
              "1598       0       4844    15736254  ...         1               0        37065.66\n",
              "1599       1       7555    15569917  ...         0               0       137674.55\n",
              "\n",
              "[1600 rows x 14 columns]"
            ]
          },
          "metadata": {
            "tags": []
          },
          "execution_count": 180
        }
      ]
    },
    {
      "cell_type": "markdown",
      "metadata": {
        "id": "h36XPRxhavzV"
      },
      "source": [
        "Iniziamo osservando che solo il 20% dei customers scelgono di lasciare la propria banca."
      ]
    },
    {
      "cell_type": "code",
      "metadata": {
        "colab": {
          "base_uri": "https://localhost:8080/",
          "height": 279
        },
        "id": "S7TBbPDjYZvu",
        "outputId": "4fd2068b-9808-430e-8a8e-f9b29386789c"
      },
      "source": [
        "#Data distribution based on 'Exited' label\n",
        "sns.countplot(x = 'Exited', data = train)\n",
        "plt.show();"
      ],
      "execution_count": 181,
      "outputs": [
        {
          "output_type": "display_data",
          "data": {
            "image/png": "[encoded data removed]",
            "text/plain": [
              "<Figure size 432x288 with 1 Axes>"
            ]
          },
          "metadata": {
            "tags": [],
            "needs_background": "light"
          }
        }
      ]
    },
    {
      "cell_type": "markdown",
      "metadata": {
        "id": "qagt5DSJeNaO"
      },
      "source": [
        "I customer con la label 'NumOfProducts' pari a 3 o 4 hanno maggiori chance di lasciare la propria banca."
      ]
    },
    {
      "cell_type": "code",
      "metadata": {
        "colab": {
          "base_uri": "https://localhost:8080/",
          "height": 279
        },
        "id": "gza2FSY_dvEh",
        "outputId": "3df69015-64bf-464a-9317-904cc8a38e95"
      },
      "source": [
        "sns.countplot(x = \"NumOfProducts\", hue=\"Exited\", data = train)\n",
        "plt.show()"
      ],
      "execution_count": 182,
      "outputs": [
        {
          "output_type": "display_data",
          "data": {
            "image/png": "[encoded data removed]",
            "text/plain": [
              "<Figure size 432x288 with 1 Axes>"
            ]
          },
          "metadata": {
            "tags": [],
            "needs_background": "light"
          }
        }
      ]
    },
    {
      "cell_type": "code",
      "metadata": {
        "colab": {
          "base_uri": "https://localhost:8080/"
        },
        "id": "gObd4WtYj7qr",
        "outputId": "868ccd51-7c58-4906-aa22-2b0bd6b2ad6f"
      },
      "source": [
        "#Checking missing values on train set\n",
        "missing_values_count = train.isnull().sum()\n",
        "missing_values_count"
      ],
      "execution_count": 183,
      "outputs": [
        {
          "output_type": "execute_result",
          "data": {
            "text/plain": [
              "Exited             0\n",
              "RowNumber          0\n",
              "CustomerId         0\n",
              "Surname            0\n",
              "CreditScore        0\n",
              "Geography          0\n",
              "Gender             0\n",
              "Age                0\n",
              "Tenure             0\n",
              "Balance            0\n",
              "NumOfProducts      0\n",
              "HasCrCard          0\n",
              "IsActiveMember     0\n",
              "EstimatedSalary    0\n",
              "dtype: int64"
            ]
          },
          "metadata": {
            "tags": []
          },
          "execution_count": 183
        }
      ]
    },
    {
      "cell_type": "code",
      "metadata": {
        "colab": {
          "base_uri": "https://localhost:8080/"
        },
        "id": "gRbBDjW2k7ut",
        "outputId": "bef88876-e9ec-4868-e17a-36f54ba2008d"
      },
      "source": [
        "#Checking missing values on test set\n",
        "missing_values_count = test.isnull().sum()\n",
        "missing_values_count"
      ],
      "execution_count": 184,
      "outputs": [
        {
          "output_type": "execute_result",
          "data": {
            "text/plain": [
              "Exited             0\n",
              "RowNumber          0\n",
              "CustomerId         0\n",
              "Surname            0\n",
              "CreditScore        0\n",
              "Geography          0\n",
              "Gender             0\n",
              "Age                0\n",
              "Tenure             0\n",
              "Balance            0\n",
              "NumOfProducts      0\n",
              "HasCrCard          0\n",
              "IsActiveMember     0\n",
              "EstimatedSalary    0\n",
              "dtype: int64"
            ]
          },
          "metadata": {
            "tags": []
          },
          "execution_count": 184
        }
      ]
    },
    {
      "cell_type": "code",
      "metadata": {
        "colab": {
          "base_uri": "https://localhost:8080/"
        },
        "id": "15D5xNu_g45b",
        "outputId": "79548dbd-0c21-4535-a95c-a8a2bfa2ab95"
      },
      "source": [
        "#Verify Dtype\n",
        "train.info()"
      ],
      "execution_count": 185,
      "outputs": [
        {
          "output_type": "stream",
          "text": [
            "<class 'pandas.core.frame.DataFrame'>\n",
            "RangeIndex: 6400 entries, 0 to 6399\n",
            "Data columns (total 14 columns):\n",
            " #   Column           Non-Null Count  Dtype  \n",
            "---  ------           --------------  -----  \n",
            " 0   Exited           6400 non-null   int64  \n",
            " 1   RowNumber        6400 non-null   int64  \n",
            " 2   CustomerId       6400 non-null   int64  \n",
            " 3   Surname          6400 non-null   object \n",
            " 4   CreditScore      6400 non-null   int64  \n",
            " 5   Geography        6400 non-null   object \n",
            " 6   Gender           6400 non-null   object \n",
            " 7   Age              6400 non-null   int64  \n",
            " 8   Tenure           6400 non-null   int64  \n",
            " 9   Balance          6400 non-null   float64\n",
            " 10  NumOfProducts    6400 non-null   int64  \n",
            " 11  HasCrCard        6400 non-null   int64  \n",
            " 12  IsActiveMember   6400 non-null   int64  \n",
            " 13  EstimatedSalary  6400 non-null   float64\n",
            "dtypes: float64(2), int64(9), object(3)\n",
            "memory usage: 700.1+ KB\n"
          ],
          "name": "stdout"
        }
      ]
    },
    {
      "cell_type": "markdown",
      "metadata": {
        "id": "W5miBwyX5mIM"
      },
      "source": [
        "**Feature drop**\n",
        "\n",
        "Scarto le feature 'Surname', 'CustomerId' e 'RowNumber' ritenute poco significative ai fini della previsione."
      ]
    },
    {
      "cell_type": "code",
      "metadata": {
        "id": "CBl5gZ2d1H8F"
      },
      "source": [
        "#Dropping features in training set\n",
        "train = train.drop('Surname', axis=1)\n",
        "train = train.drop('CustomerId', axis=1)\n",
        "train = train.drop('RowNumber', axis=1)\n",
        "\n",
        "#Dropping features in test set\n",
        "test = test.drop('Surname', axis=1)\n",
        "test = test.drop('CustomerId', axis=1)\n",
        "test = test.drop('RowNumber', axis=1)"
      ],
      "execution_count": 186,
      "outputs": []
    },
    {
      "cell_type": "code",
      "metadata": {
        "id": "49bt-Fu8lK5o"
      },
      "source": [
        "#Feature encoding\n",
        "lEncoder = preprocessing.LabelEncoder()\n",
        "\n",
        "for l in train:\n",
        "   if ((l=='Geography') or (l=='Gender')):\n",
        "      train[l]=lEncoder.fit_transform(train[l].astype(str))\n",
        "      test[l]=lEncoder.fit_transform(test[l].astype(str))"
      ],
      "execution_count": 187,
      "outputs": []
    },
    {
      "cell_type": "code",
      "metadata": {
        "colab": {
          "base_uri": "https://localhost:8080/",
          "height": 419
        },
        "id": "8v3UvLLsnylC",
        "outputId": "b1d6e59b-7caa-4170-877b-e092c165b970"
      },
      "source": [
        "#Show encoded train dataset\n",
        "train"
      ],
      "execution_count": 188,
      "outputs": [
        {
          "output_type": "execute_result",
          "data": {
            "text/html": [
              "<div>\n",
              "<style scoped>\n",
              "    .dataframe tbody tr th:only-of-type {\n",
              "        vertical-align: middle;\n",
              "    }\n",
              "\n",
              "    .dataframe tbody tr th {\n",
              "        vertical-align: top;\n",
              "    }\n",
              "\n",
              "    .dataframe thead th {\n",
              "        text-align: right;\n",
              "    }\n",
              "</style>\n",
              "<table border=\"1\" class=\"dataframe\">\n",
              "  <thead>\n",
              "    <tr style=\"text-align: right;\">\n",
              "      <th></th>\n",
              "      <th>Exited</th>\n",
              "      <th>CreditScore</th>\n",
              "      <th>Geography</th>\n",
              "      <th>Gender</th>\n",
              "      <th>Age</th>\n",
              "      <th>Tenure</th>\n",
              "      <th>Balance</th>\n",
              "      <th>NumOfProducts</th>\n",
              "      <th>HasCrCard</th>\n",
              "      <th>IsActiveMember</th>\n",
              "      <th>EstimatedSalary</th>\n",
              "    </tr>\n",
              "  </thead>\n",
              "  <tbody>\n",
              "    <tr>\n",
              "      <th>0</th>\n",
              "      <td>0</td>\n",
              "      <td>627</td>\n",
              "      <td>1</td>\n",
              "      <td>1</td>\n",
              "      <td>29</td>\n",
              "      <td>5</td>\n",
              "      <td>139541.58</td>\n",
              "      <td>2</td>\n",
              "      <td>1</td>\n",
              "      <td>0</td>\n",
              "      <td>80607.33</td>\n",
              "    </tr>\n",
              "    <tr>\n",
              "      <th>1</th>\n",
              "      <td>0</td>\n",
              "      <td>539</td>\n",
              "      <td>0</td>\n",
              "      <td>0</td>\n",
              "      <td>29</td>\n",
              "      <td>4</td>\n",
              "      <td>0.00</td>\n",
              "      <td>2</td>\n",
              "      <td>1</td>\n",
              "      <td>1</td>\n",
              "      <td>100919.19</td>\n",
              "    </tr>\n",
              "    <tr>\n",
              "      <th>2</th>\n",
              "      <td>0</td>\n",
              "      <td>644</td>\n",
              "      <td>1</td>\n",
              "      <td>1</td>\n",
              "      <td>34</td>\n",
              "      <td>9</td>\n",
              "      <td>112746.54</td>\n",
              "      <td>2</td>\n",
              "      <td>0</td>\n",
              "      <td>0</td>\n",
              "      <td>141230.07</td>\n",
              "    </tr>\n",
              "    <tr>\n",
              "      <th>3</th>\n",
              "      <td>0</td>\n",
              "      <td>619</td>\n",
              "      <td>0</td>\n",
              "      <td>0</td>\n",
              "      <td>33</td>\n",
              "      <td>2</td>\n",
              "      <td>167733.51</td>\n",
              "      <td>2</td>\n",
              "      <td>1</td>\n",
              "      <td>1</td>\n",
              "      <td>65222.48</td>\n",
              "    </tr>\n",
              "    <tr>\n",
              "      <th>4</th>\n",
              "      <td>0</td>\n",
              "      <td>641</td>\n",
              "      <td>2</td>\n",
              "      <td>1</td>\n",
              "      <td>31</td>\n",
              "      <td>3</td>\n",
              "      <td>153316.14</td>\n",
              "      <td>1</td>\n",
              "      <td>1</td>\n",
              "      <td>0</td>\n",
              "      <td>59927.99</td>\n",
              "    </tr>\n",
              "    <tr>\n",
              "      <th>...</th>\n",
              "      <td>...</td>\n",
              "      <td>...</td>\n",
              "      <td>...</td>\n",
              "      <td>...</td>\n",
              "      <td>...</td>\n",
              "      <td>...</td>\n",
              "      <td>...</td>\n",
              "      <td>...</td>\n",
              "      <td>...</td>\n",
              "      <td>...</td>\n",
              "      <td>...</td>\n",
              "    </tr>\n",
              "    <tr>\n",
              "      <th>6395</th>\n",
              "      <td>0</td>\n",
              "      <td>648</td>\n",
              "      <td>2</td>\n",
              "      <td>0</td>\n",
              "      <td>27</td>\n",
              "      <td>7</td>\n",
              "      <td>0.00</td>\n",
              "      <td>2</td>\n",
              "      <td>1</td>\n",
              "      <td>1</td>\n",
              "      <td>163060.43</td>\n",
              "    </tr>\n",
              "    <tr>\n",
              "      <th>6396</th>\n",
              "      <td>0</td>\n",
              "      <td>784</td>\n",
              "      <td>1</td>\n",
              "      <td>1</td>\n",
              "      <td>28</td>\n",
              "      <td>2</td>\n",
              "      <td>70233.74</td>\n",
              "      <td>2</td>\n",
              "      <td>1</td>\n",
              "      <td>1</td>\n",
              "      <td>179252.73</td>\n",
              "    </tr>\n",
              "    <tr>\n",
              "      <th>6397</th>\n",
              "      <td>0</td>\n",
              "      <td>664</td>\n",
              "      <td>0</td>\n",
              "      <td>0</td>\n",
              "      <td>34</td>\n",
              "      <td>7</td>\n",
              "      <td>93920.47</td>\n",
              "      <td>1</td>\n",
              "      <td>0</td>\n",
              "      <td>0</td>\n",
              "      <td>179913.98</td>\n",
              "    </tr>\n",
              "    <tr>\n",
              "      <th>6398</th>\n",
              "      <td>0</td>\n",
              "      <td>712</td>\n",
              "      <td>0</td>\n",
              "      <td>0</td>\n",
              "      <td>29</td>\n",
              "      <td>3</td>\n",
              "      <td>87375.78</td>\n",
              "      <td>2</td>\n",
              "      <td>0</td>\n",
              "      <td>0</td>\n",
              "      <td>166194.53</td>\n",
              "    </tr>\n",
              "    <tr>\n",
              "      <th>6399</th>\n",
              "      <td>0</td>\n",
              "      <td>487</td>\n",
              "      <td>2</td>\n",
              "      <td>0</td>\n",
              "      <td>36</td>\n",
              "      <td>1</td>\n",
              "      <td>140137.15</td>\n",
              "      <td>1</td>\n",
              "      <td>1</td>\n",
              "      <td>0</td>\n",
              "      <td>194073.33</td>\n",
              "    </tr>\n",
              "  </tbody>\n",
              "</table>\n",
              "<p>6400 rows × 11 columns</p>\n",
              "</div>"
            ],
            "text/plain": [
              "      Exited  CreditScore  ...  IsActiveMember  EstimatedSalary\n",
              "0          0          627  ...               0         80607.33\n",
              "1          0          539  ...               1        100919.19\n",
              "2          0          644  ...               0        141230.07\n",
              "3          0          619  ...               1         65222.48\n",
              "4          0          641  ...               0         59927.99\n",
              "...      ...          ...  ...             ...              ...\n",
              "6395       0          648  ...               1        163060.43\n",
              "6396       0          784  ...               1        179252.73\n",
              "6397       0          664  ...               0        179913.98\n",
              "6398       0          712  ...               0        166194.53\n",
              "6399       0          487  ...               0        194073.33\n",
              "\n",
              "[6400 rows x 11 columns]"
            ]
          },
          "metadata": {
            "tags": []
          },
          "execution_count": 188
        }
      ]
    },
    {
      "cell_type": "code",
      "metadata": {
        "colab": {
          "base_uri": "https://localhost:8080/",
          "height": 419
        },
        "id": "fsjhmgwZn-Q5",
        "outputId": "442fa701-2792-4ac1-a572-c938127f7ba7"
      },
      "source": [
        "#Show encoded test dataset\n",
        "test"
      ],
      "execution_count": 189,
      "outputs": [
        {
          "output_type": "execute_result",
          "data": {
            "text/html": [
              "<div>\n",
              "<style scoped>\n",
              "    .dataframe tbody tr th:only-of-type {\n",
              "        vertical-align: middle;\n",
              "    }\n",
              "\n",
              "    .dataframe tbody tr th {\n",
              "        vertical-align: top;\n",
              "    }\n",
              "\n",
              "    .dataframe thead th {\n",
              "        text-align: right;\n",
              "    }\n",
              "</style>\n",
              "<table border=\"1\" class=\"dataframe\">\n",
              "  <thead>\n",
              "    <tr style=\"text-align: right;\">\n",
              "      <th></th>\n",
              "      <th>Exited</th>\n",
              "      <th>CreditScore</th>\n",
              "      <th>Geography</th>\n",
              "      <th>Gender</th>\n",
              "      <th>Age</th>\n",
              "      <th>Tenure</th>\n",
              "      <th>Balance</th>\n",
              "      <th>NumOfProducts</th>\n",
              "      <th>HasCrCard</th>\n",
              "      <th>IsActiveMember</th>\n",
              "      <th>EstimatedSalary</th>\n",
              "    </tr>\n",
              "  </thead>\n",
              "  <tbody>\n",
              "    <tr>\n",
              "      <th>0</th>\n",
              "      <td>0</td>\n",
              "      <td>604</td>\n",
              "      <td>0</td>\n",
              "      <td>1</td>\n",
              "      <td>28</td>\n",
              "      <td>7</td>\n",
              "      <td>0.00</td>\n",
              "      <td>2</td>\n",
              "      <td>0</td>\n",
              "      <td>0</td>\n",
              "      <td>58595.64</td>\n",
              "    </tr>\n",
              "    <tr>\n",
              "      <th>1</th>\n",
              "      <td>0</td>\n",
              "      <td>504</td>\n",
              "      <td>0</td>\n",
              "      <td>0</td>\n",
              "      <td>32</td>\n",
              "      <td>8</td>\n",
              "      <td>206663.75</td>\n",
              "      <td>1</td>\n",
              "      <td>0</td>\n",
              "      <td>0</td>\n",
              "      <td>16281.94</td>\n",
              "    </tr>\n",
              "    <tr>\n",
              "      <th>2</th>\n",
              "      <td>1</td>\n",
              "      <td>738</td>\n",
              "      <td>1</td>\n",
              "      <td>0</td>\n",
              "      <td>57</td>\n",
              "      <td>9</td>\n",
              "      <td>148384.64</td>\n",
              "      <td>1</td>\n",
              "      <td>0</td>\n",
              "      <td>0</td>\n",
              "      <td>155047.11</td>\n",
              "    </tr>\n",
              "    <tr>\n",
              "      <th>3</th>\n",
              "      <td>0</td>\n",
              "      <td>656</td>\n",
              "      <td>1</td>\n",
              "      <td>0</td>\n",
              "      <td>27</td>\n",
              "      <td>3</td>\n",
              "      <td>150905.03</td>\n",
              "      <td>2</td>\n",
              "      <td>1</td>\n",
              "      <td>0</td>\n",
              "      <td>16998.72</td>\n",
              "    </tr>\n",
              "    <tr>\n",
              "      <th>4</th>\n",
              "      <td>1</td>\n",
              "      <td>428</td>\n",
              "      <td>1</td>\n",
              "      <td>0</td>\n",
              "      <td>40</td>\n",
              "      <td>3</td>\n",
              "      <td>129248.11</td>\n",
              "      <td>2</td>\n",
              "      <td>1</td>\n",
              "      <td>0</td>\n",
              "      <td>72876.43</td>\n",
              "    </tr>\n",
              "    <tr>\n",
              "      <th>...</th>\n",
              "      <td>...</td>\n",
              "      <td>...</td>\n",
              "      <td>...</td>\n",
              "      <td>...</td>\n",
              "      <td>...</td>\n",
              "      <td>...</td>\n",
              "      <td>...</td>\n",
              "      <td>...</td>\n",
              "      <td>...</td>\n",
              "      <td>...</td>\n",
              "      <td>...</td>\n",
              "    </tr>\n",
              "    <tr>\n",
              "      <th>1595</th>\n",
              "      <td>0</td>\n",
              "      <td>680</td>\n",
              "      <td>0</td>\n",
              "      <td>0</td>\n",
              "      <td>47</td>\n",
              "      <td>5</td>\n",
              "      <td>0.00</td>\n",
              "      <td>2</td>\n",
              "      <td>1</td>\n",
              "      <td>1</td>\n",
              "      <td>179843.33</td>\n",
              "    </tr>\n",
              "    <tr>\n",
              "      <th>1596</th>\n",
              "      <td>0</td>\n",
              "      <td>832</td>\n",
              "      <td>0</td>\n",
              "      <td>0</td>\n",
              "      <td>27</td>\n",
              "      <td>10</td>\n",
              "      <td>98590.25</td>\n",
              "      <td>1</td>\n",
              "      <td>1</td>\n",
              "      <td>0</td>\n",
              "      <td>30912.89</td>\n",
              "    </tr>\n",
              "    <tr>\n",
              "      <th>1597</th>\n",
              "      <td>0</td>\n",
              "      <td>743</td>\n",
              "      <td>2</td>\n",
              "      <td>1</td>\n",
              "      <td>25</td>\n",
              "      <td>6</td>\n",
              "      <td>0.00</td>\n",
              "      <td>2</td>\n",
              "      <td>1</td>\n",
              "      <td>0</td>\n",
              "      <td>129740.11</td>\n",
              "    </tr>\n",
              "    <tr>\n",
              "      <th>1598</th>\n",
              "      <td>0</td>\n",
              "      <td>654</td>\n",
              "      <td>0</td>\n",
              "      <td>1</td>\n",
              "      <td>29</td>\n",
              "      <td>2</td>\n",
              "      <td>91955.61</td>\n",
              "      <td>1</td>\n",
              "      <td>1</td>\n",
              "      <td>0</td>\n",
              "      <td>37065.66</td>\n",
              "    </tr>\n",
              "    <tr>\n",
              "      <th>1599</th>\n",
              "      <td>1</td>\n",
              "      <td>706</td>\n",
              "      <td>2</td>\n",
              "      <td>1</td>\n",
              "      <td>30</td>\n",
              "      <td>6</td>\n",
              "      <td>87609.68</td>\n",
              "      <td>2</td>\n",
              "      <td>0</td>\n",
              "      <td>0</td>\n",
              "      <td>137674.55</td>\n",
              "    </tr>\n",
              "  </tbody>\n",
              "</table>\n",
              "<p>1600 rows × 11 columns</p>\n",
              "</div>"
            ],
            "text/plain": [
              "      Exited  CreditScore  ...  IsActiveMember  EstimatedSalary\n",
              "0          0          604  ...               0         58595.64\n",
              "1          0          504  ...               0         16281.94\n",
              "2          1          738  ...               0        155047.11\n",
              "3          0          656  ...               0         16998.72\n",
              "4          1          428  ...               0         72876.43\n",
              "...      ...          ...  ...             ...              ...\n",
              "1595       0          680  ...               1        179843.33\n",
              "1596       0          832  ...               0         30912.89\n",
              "1597       0          743  ...               0        129740.11\n",
              "1598       0          654  ...               0         37065.66\n",
              "1599       1          706  ...               0        137674.55\n",
              "\n",
              "[1600 rows x 11 columns]"
            ]
          },
          "metadata": {
            "tags": []
          },
          "execution_count": 189
        }
      ]
    },
    {
      "cell_type": "code",
      "metadata": {
        "colab": {
          "base_uri": "https://localhost:8080/",
          "height": 1000
        },
        "id": "FOQGRTrdtqQI",
        "outputId": "dc64a0b3-654e-4ef9-d725-e2d7b44d2f87"
      },
      "source": [
        "#Correlation Graphic on training set\n",
        "correlation = train.corr()\n",
        "plt.figure(figsize=(18,18))\n",
        "sns.heatmap(correlation, vmax=1,  cmap='coolwarm', square=True,annot=True)\n",
        "plt.title('Correlation')\n",
        "plt.show()"
      ],
      "execution_count": 190,
      "outputs": [
        {
          "output_type": "display_data",
          "data": {
            "image/png": "[encoded data removed]",
            "text/plain": [
              "<Figure size 1296x1296 with 2 Axes>"
            ]
          },
          "metadata": {
            "tags": [],
            "needs_background": "light"
          }
        }
      ]
    },
    {
      "cell_type": "markdown",
      "metadata": {
        "id": "jl4BzzcgxyJ_"
      },
      "source": [
        "Scarto la feature 'HasCrCard' che risulta essere poco significativa dal grafico della correlazione"
      ]
    },
    {
      "cell_type": "code",
      "metadata": {
        "colab": {
          "base_uri": "https://localhost:8080/",
          "height": 419
        },
        "id": "EwKSww8TxxI6",
        "outputId": "a48d8ee6-9ea8-4c36-8b83-9d0b68d3a176"
      },
      "source": [
        "#Dropping feature in training set\n",
        "train = train.drop('HasCrCard', axis=1)\n",
        "\n",
        "#Dropping feature in test set\n",
        "test = test.drop('HasCrCard', axis=1)\n",
        "\n",
        "#Check\n",
        "train"
      ],
      "execution_count": 191,
      "outputs": [
        {
          "output_type": "execute_result",
          "data": {
            "text/html": [
              "<div>\n",
              "<style scoped>\n",
              "    .dataframe tbody tr th:only-of-type {\n",
              "        vertical-align: middle;\n",
              "    }\n",
              "\n",
              "    .dataframe tbody tr th {\n",
              "        vertical-align: top;\n",
              "    }\n",
              "\n",
              "    .dataframe thead th {\n",
              "        text-align: right;\n",
              "    }\n",
              "</style>\n",
              "<table border=\"1\" class=\"dataframe\">\n",
              "  <thead>\n",
              "    <tr style=\"text-align: right;\">\n",
              "      <th></th>\n",
              "      <th>Exited</th>\n",
              "      <th>CreditScore</th>\n",
              "      <th>Geography</th>\n",
              "      <th>Gender</th>\n",
              "      <th>Age</th>\n",
              "      <th>Tenure</th>\n",
              "      <th>Balance</th>\n",
              "      <th>NumOfProducts</th>\n",
              "      <th>IsActiveMember</th>\n",
              "      <th>EstimatedSalary</th>\n",
              "    </tr>\n",
              "  </thead>\n",
              "  <tbody>\n",
              "    <tr>\n",
              "      <th>0</th>\n",
              "      <td>0</td>\n",
              "      <td>627</td>\n",
              "      <td>1</td>\n",
              "      <td>1</td>\n",
              "      <td>29</td>\n",
              "      <td>5</td>\n",
              "      <td>139541.58</td>\n",
              "      <td>2</td>\n",
              "      <td>0</td>\n",
              "      <td>80607.33</td>\n",
              "    </tr>\n",
              "    <tr>\n",
              "      <th>1</th>\n",
              "      <td>0</td>\n",
              "      <td>539</td>\n",
              "      <td>0</td>\n",
              "      <td>0</td>\n",
              "      <td>29</td>\n",
              "      <td>4</td>\n",
              "      <td>0.00</td>\n",
              "      <td>2</td>\n",
              "      <td>1</td>\n",
              "      <td>100919.19</td>\n",
              "    </tr>\n",
              "    <tr>\n",
              "      <th>2</th>\n",
              "      <td>0</td>\n",
              "      <td>644</td>\n",
              "      <td>1</td>\n",
              "      <td>1</td>\n",
              "      <td>34</td>\n",
              "      <td>9</td>\n",
              "      <td>112746.54</td>\n",
              "      <td>2</td>\n",
              "      <td>0</td>\n",
              "      <td>141230.07</td>\n",
              "    </tr>\n",
              "    <tr>\n",
              "      <th>3</th>\n",
              "      <td>0</td>\n",
              "      <td>619</td>\n",
              "      <td>0</td>\n",
              "      <td>0</td>\n",
              "      <td>33</td>\n",
              "      <td>2</td>\n",
              "      <td>167733.51</td>\n",
              "      <td>2</td>\n",
              "      <td>1</td>\n",
              "      <td>65222.48</td>\n",
              "    </tr>\n",
              "    <tr>\n",
              "      <th>4</th>\n",
              "      <td>0</td>\n",
              "      <td>641</td>\n",
              "      <td>2</td>\n",
              "      <td>1</td>\n",
              "      <td>31</td>\n",
              "      <td>3</td>\n",
              "      <td>153316.14</td>\n",
              "      <td>1</td>\n",
              "      <td>0</td>\n",
              "      <td>59927.99</td>\n",
              "    </tr>\n",
              "    <tr>\n",
              "      <th>...</th>\n",
              "      <td>...</td>\n",
              "      <td>...</td>\n",
              "      <td>...</td>\n",
              "      <td>...</td>\n",
              "      <td>...</td>\n",
              "      <td>...</td>\n",
              "      <td>...</td>\n",
              "      <td>...</td>\n",
              "      <td>...</td>\n",
              "      <td>...</td>\n",
              "    </tr>\n",
              "    <tr>\n",
              "      <th>6395</th>\n",
              "      <td>0</td>\n",
              "      <td>648</td>\n",
              "      <td>2</td>\n",
              "      <td>0</td>\n",
              "      <td>27</td>\n",
              "      <td>7</td>\n",
              "      <td>0.00</td>\n",
              "      <td>2</td>\n",
              "      <td>1</td>\n",
              "      <td>163060.43</td>\n",
              "    </tr>\n",
              "    <tr>\n",
              "      <th>6396</th>\n",
              "      <td>0</td>\n",
              "      <td>784</td>\n",
              "      <td>1</td>\n",
              "      <td>1</td>\n",
              "      <td>28</td>\n",
              "      <td>2</td>\n",
              "      <td>70233.74</td>\n",
              "      <td>2</td>\n",
              "      <td>1</td>\n",
              "      <td>179252.73</td>\n",
              "    </tr>\n",
              "    <tr>\n",
              "      <th>6397</th>\n",
              "      <td>0</td>\n",
              "      <td>664</td>\n",
              "      <td>0</td>\n",
              "      <td>0</td>\n",
              "      <td>34</td>\n",
              "      <td>7</td>\n",
              "      <td>93920.47</td>\n",
              "      <td>1</td>\n",
              "      <td>0</td>\n",
              "      <td>179913.98</td>\n",
              "    </tr>\n",
              "    <tr>\n",
              "      <th>6398</th>\n",
              "      <td>0</td>\n",
              "      <td>712</td>\n",
              "      <td>0</td>\n",
              "      <td>0</td>\n",
              "      <td>29</td>\n",
              "      <td>3</td>\n",
              "      <td>87375.78</td>\n",
              "      <td>2</td>\n",
              "      <td>0</td>\n",
              "      <td>166194.53</td>\n",
              "    </tr>\n",
              "    <tr>\n",
              "      <th>6399</th>\n",
              "      <td>0</td>\n",
              "      <td>487</td>\n",
              "      <td>2</td>\n",
              "      <td>0</td>\n",
              "      <td>36</td>\n",
              "      <td>1</td>\n",
              "      <td>140137.15</td>\n",
              "      <td>1</td>\n",
              "      <td>0</td>\n",
              "      <td>194073.33</td>\n",
              "    </tr>\n",
              "  </tbody>\n",
              "</table>\n",
              "<p>6400 rows × 10 columns</p>\n",
              "</div>"
            ],
            "text/plain": [
              "      Exited  CreditScore  ...  IsActiveMember  EstimatedSalary\n",
              "0          0          627  ...               0         80607.33\n",
              "1          0          539  ...               1        100919.19\n",
              "2          0          644  ...               0        141230.07\n",
              "3          0          619  ...               1         65222.48\n",
              "4          0          641  ...               0         59927.99\n",
              "...      ...          ...  ...             ...              ...\n",
              "6395       0          648  ...               1        163060.43\n",
              "6396       0          784  ...               1        179252.73\n",
              "6397       0          664  ...               0        179913.98\n",
              "6398       0          712  ...               0        166194.53\n",
              "6399       0          487  ...               0        194073.33\n",
              "\n",
              "[6400 rows x 10 columns]"
            ]
          },
          "metadata": {
            "tags": []
          },
          "execution_count": 191
        }
      ]
    },
    {
      "cell_type": "markdown",
      "metadata": {
        "id": "Vduma3XxE20o"
      },
      "source": [
        "Divido la feature 'Estimated Salary' in otto fasce omogenee per verificare se ottengo dei valori di correlazione migliori.\n",
        "\n"
      ]
    },
    {
      "cell_type": "code",
      "metadata": {
        "colab": {
          "base_uri": "https://localhost:8080/",
          "height": 297
        },
        "id": "3fbn9iPw_2UB",
        "outputId": "861c2226-2517-4204-cef6-acd45bdf06bd"
      },
      "source": [
        "#Feature division\n",
        "train['EstimatedSalaryBand'] = pd.cut(train['EstimatedSalary'], 8)\n",
        "train[['EstimatedSalaryBand', 'Exited']].groupby(['EstimatedSalaryBand'], as_index=False).mean().sort_values(by='EstimatedSalaryBand', ascending=True)"
      ],
      "execution_count": 192,
      "outputs": [
        {
          "output_type": "execute_result",
          "data": {
            "text/html": [
              "<div>\n",
              "<style scoped>\n",
              "    .dataframe tbody tr th:only-of-type {\n",
              "        vertical-align: middle;\n",
              "    }\n",
              "\n",
              "    .dataframe tbody tr th {\n",
              "        vertical-align: top;\n",
              "    }\n",
              "\n",
              "    .dataframe thead th {\n",
              "        text-align: right;\n",
              "    }\n",
              "</style>\n",
              "<table border=\"1\" class=\"dataframe\">\n",
              "  <thead>\n",
              "    <tr style=\"text-align: right;\">\n",
              "      <th></th>\n",
              "      <th>EstimatedSalaryBand</th>\n",
              "      <th>Exited</th>\n",
              "    </tr>\n",
              "  </thead>\n",
              "  <tbody>\n",
              "    <tr>\n",
              "      <th>0</th>\n",
              "      <td>(-109.811, 25075.154]</td>\n",
              "      <td>0.194622</td>\n",
              "    </tr>\n",
              "    <tr>\n",
              "      <th>1</th>\n",
              "      <td>(25075.154, 50060.237]</td>\n",
              "      <td>0.202632</td>\n",
              "    </tr>\n",
              "    <tr>\n",
              "      <th>2</th>\n",
              "      <td>(50060.237, 75045.321]</td>\n",
              "      <td>0.221106</td>\n",
              "    </tr>\n",
              "    <tr>\n",
              "      <th>3</th>\n",
              "      <td>(75045.321, 100030.405]</td>\n",
              "      <td>0.185961</td>\n",
              "    </tr>\n",
              "    <tr>\n",
              "      <th>4</th>\n",
              "      <td>(100030.405, 125015.489]</td>\n",
              "      <td>0.202654</td>\n",
              "    </tr>\n",
              "    <tr>\n",
              "      <th>5</th>\n",
              "      <td>(125015.489, 150000.572]</td>\n",
              "      <td>0.203182</td>\n",
              "    </tr>\n",
              "    <tr>\n",
              "      <th>6</th>\n",
              "      <td>(150000.572, 174985.656]</td>\n",
              "      <td>0.214740</td>\n",
              "    </tr>\n",
              "    <tr>\n",
              "      <th>7</th>\n",
              "      <td>(174985.656, 199970.74]</td>\n",
              "      <td>0.200489</td>\n",
              "    </tr>\n",
              "  </tbody>\n",
              "</table>\n",
              "</div>"
            ],
            "text/plain": [
              "        EstimatedSalaryBand    Exited\n",
              "0     (-109.811, 25075.154]  0.194622\n",
              "1    (25075.154, 50060.237]  0.202632\n",
              "2    (50060.237, 75045.321]  0.221106\n",
              "3   (75045.321, 100030.405]  0.185961\n",
              "4  (100030.405, 125015.489]  0.202654\n",
              "5  (125015.489, 150000.572]  0.203182\n",
              "6  (150000.572, 174985.656]  0.214740\n",
              "7   (174985.656, 199970.74]  0.200489"
            ]
          },
          "metadata": {
            "tags": []
          },
          "execution_count": 192
        }
      ]
    },
    {
      "cell_type": "code",
      "metadata": {
        "colab": {
          "base_uri": "https://localhost:8080/"
        },
        "id": "Gp9vjkPECEpX",
        "outputId": "c77e829a-b149-4079-f32a-fdc449e75eb8"
      },
      "source": [
        "#Value assignment\n",
        "train.loc[train['EstimatedSalary'] <=  25075.154, 'EstimatedSalary'] = 0\n",
        "train.loc[(train['EstimatedSalary'] > 25075.154) & (train['EstimatedSalary'] <=  50060.237), 'EstimatedSalary'] = 1\n",
        "train.loc[(train['EstimatedSalary'] > 50060.237) & (train['EstimatedSalary'] <= 75045.321), 'EstimatedSalary'] = 2\n",
        "train.loc[(train['EstimatedSalary'] > 75045.321) & (train['EstimatedSalary'] <= 100030.405), 'EstimatedSalary'] = 3\n",
        "train.loc[(train['EstimatedSalary'] > 100030.405) & (train['EstimatedSalary'] <= 125015.489), 'EstimatedSalary'] = 4\n",
        "train.loc[(train['EstimatedSalary'] > 125015.489) & (train['EstimatedSalary'] <= 150000.572), 'EstimatedSalary'] = 5\n",
        "train.loc[(train['EstimatedSalary'] > 150000.572) & (train['EstimatedSalary'] <= 174985.656), 'EstimatedSalary'] = 6\n",
        "train.loc[train['EstimatedSalary'] > 174985.656, 'EstimatedSalary'] = 7\n",
        "\n",
        "test.loc[test['EstimatedSalary'] <=  25075.154, 'EstimatedSalary'] = 0\n",
        "test.loc[(test['EstimatedSalary'] > 25075.154) & (test['EstimatedSalary'] <=  50060.237), 'EstimatedSalary'] = 1\n",
        "test.loc[(test['EstimatedSalary'] > 50060.237) & (test['EstimatedSalary'] <= 75045.321), 'EstimatedSalary'] = 2\n",
        "test.loc[(test['EstimatedSalary'] > 75045.321) & (test['EstimatedSalary'] <= 100030.405), 'EstimatedSalary'] = 3\n",
        "test.loc[(test['EstimatedSalary'] > 100030.405) & (test['EstimatedSalary'] <= 125015.489), 'EstimatedSalary'] = 4\n",
        "test.loc[(test['EstimatedSalary'] > 125015.489) & (test['EstimatedSalary'] <= 150000.572), 'EstimatedSalary'] = 5\n",
        "test.loc[(test['EstimatedSalary'] > 150000.572) & (test['EstimatedSalary'] <= 174985.656), 'EstimatedSalary'] = 6\n",
        "test.loc[test['EstimatedSalary'] > 174985.656, 'EstimatedSalary'] = 7\n",
        "\n",
        "train = train.drop(\"EstimatedSalaryBand\", axis = 1)\n",
        "\n",
        "#Check\n",
        "train.EstimatedSalary.unique()"
      ],
      "execution_count": 193,
      "outputs": [
        {
          "output_type": "execute_result",
          "data": {
            "text/plain": [
              "array([3., 4., 5., 2., 0., 6., 1., 7.])"
            ]
          },
          "metadata": {
            "tags": []
          },
          "execution_count": 193
        }
      ]
    },
    {
      "cell_type": "code",
      "metadata": {
        "colab": {
          "base_uri": "https://localhost:8080/",
          "height": 965
        },
        "id": "ftI7_VWpIjSF",
        "outputId": "b49847be-a88c-4e29-a592-9b077e5478ad"
      },
      "source": [
        "#Correlation Graphic on training set\n",
        "correlation = train.corr()\n",
        "plt.figure(figsize=(17,17))\n",
        "sns.heatmap(correlation, vmax=1,  cmap='coolwarm', square=True,annot=True)\n",
        "plt.title('Correlation')\n",
        "plt.show()"
      ],
      "execution_count": 194,
      "outputs": [
        {
          "output_type": "display_data",
          "data": {
            "image/png": "[encoded data removed]",
            "text/plain": [
              "<Figure size 1224x1224 with 2 Axes>"
            ]
          },
          "metadata": {
            "tags": [],
            "needs_background": "light"
          }
        }
      ]
    },
    {
      "cell_type": "markdown",
      "metadata": {
        "id": "UEkxGsPwNZ1I"
      },
      "source": [
        "La correlazione della feature 'EstimatedSalary' si è abbassata ancora di più pertanto è ragionevole scartare la feature per migliorare la qualità del sistema."
      ]
    },
    {
      "cell_type": "code",
      "metadata": {
        "colab": {
          "base_uri": "https://localhost:8080/",
          "height": 419
        },
        "id": "BzH34FhJNYMZ",
        "outputId": "53c1f15e-bf25-4a74-a76a-fba53300081f"
      },
      "source": [
        "#Dropping feature in training set\n",
        "train = train.drop('EstimatedSalary', axis=1)\n",
        "\n",
        "#Dropping feature in test set\n",
        "test = test.drop('EstimatedSalary', axis=1)\n",
        "\n",
        "#Check\n",
        "train"
      ],
      "execution_count": 195,
      "outputs": [
        {
          "output_type": "execute_result",
          "data": {
            "text/html": [
              "<div>\n",
              "<style scoped>\n",
              "    .dataframe tbody tr th:only-of-type {\n",
              "        vertical-align: middle;\n",
              "    }\n",
              "\n",
              "    .dataframe tbody tr th {\n",
              "        vertical-align: top;\n",
              "    }\n",
              "\n",
              "    .dataframe thead th {\n",
              "        text-align: right;\n",
              "    }\n",
              "</style>\n",
              "<table border=\"1\" class=\"dataframe\">\n",
              "  <thead>\n",
              "    <tr style=\"text-align: right;\">\n",
              "      <th></th>\n",
              "      <th>Exited</th>\n",
              "      <th>CreditScore</th>\n",
              "      <th>Geography</th>\n",
              "      <th>Gender</th>\n",
              "      <th>Age</th>\n",
              "      <th>Tenure</th>\n",
              "      <th>Balance</th>\n",
              "      <th>NumOfProducts</th>\n",
              "      <th>IsActiveMember</th>\n",
              "    </tr>\n",
              "  </thead>\n",
              "  <tbody>\n",
              "    <tr>\n",
              "      <th>0</th>\n",
              "      <td>0</td>\n",
              "      <td>627</td>\n",
              "      <td>1</td>\n",
              "      <td>1</td>\n",
              "      <td>29</td>\n",
              "      <td>5</td>\n",
              "      <td>139541.58</td>\n",
              "      <td>2</td>\n",
              "      <td>0</td>\n",
              "    </tr>\n",
              "    <tr>\n",
              "      <th>1</th>\n",
              "      <td>0</td>\n",
              "      <td>539</td>\n",
              "      <td>0</td>\n",
              "      <td>0</td>\n",
              "      <td>29</td>\n",
              "      <td>4</td>\n",
              "      <td>0.00</td>\n",
              "      <td>2</td>\n",
              "      <td>1</td>\n",
              "    </tr>\n",
              "    <tr>\n",
              "      <th>2</th>\n",
              "      <td>0</td>\n",
              "      <td>644</td>\n",
              "      <td>1</td>\n",
              "      <td>1</td>\n",
              "      <td>34</td>\n",
              "      <td>9</td>\n",
              "      <td>112746.54</td>\n",
              "      <td>2</td>\n",
              "      <td>0</td>\n",
              "    </tr>\n",
              "    <tr>\n",
              "      <th>3</th>\n",
              "      <td>0</td>\n",
              "      <td>619</td>\n",
              "      <td>0</td>\n",
              "      <td>0</td>\n",
              "      <td>33</td>\n",
              "      <td>2</td>\n",
              "      <td>167733.51</td>\n",
              "      <td>2</td>\n",
              "      <td>1</td>\n",
              "    </tr>\n",
              "    <tr>\n",
              "      <th>4</th>\n",
              "      <td>0</td>\n",
              "      <td>641</td>\n",
              "      <td>2</td>\n",
              "      <td>1</td>\n",
              "      <td>31</td>\n",
              "      <td>3</td>\n",
              "      <td>153316.14</td>\n",
              "      <td>1</td>\n",
              "      <td>0</td>\n",
              "    </tr>\n",
              "    <tr>\n",
              "      <th>...</th>\n",
              "      <td>...</td>\n",
              "      <td>...</td>\n",
              "      <td>...</td>\n",
              "      <td>...</td>\n",
              "      <td>...</td>\n",
              "      <td>...</td>\n",
              "      <td>...</td>\n",
              "      <td>...</td>\n",
              "      <td>...</td>\n",
              "    </tr>\n",
              "    <tr>\n",
              "      <th>6395</th>\n",
              "      <td>0</td>\n",
              "      <td>648</td>\n",
              "      <td>2</td>\n",
              "      <td>0</td>\n",
              "      <td>27</td>\n",
              "      <td>7</td>\n",
              "      <td>0.00</td>\n",
              "      <td>2</td>\n",
              "      <td>1</td>\n",
              "    </tr>\n",
              "    <tr>\n",
              "      <th>6396</th>\n",
              "      <td>0</td>\n",
              "      <td>784</td>\n",
              "      <td>1</td>\n",
              "      <td>1</td>\n",
              "      <td>28</td>\n",
              "      <td>2</td>\n",
              "      <td>70233.74</td>\n",
              "      <td>2</td>\n",
              "      <td>1</td>\n",
              "    </tr>\n",
              "    <tr>\n",
              "      <th>6397</th>\n",
              "      <td>0</td>\n",
              "      <td>664</td>\n",
              "      <td>0</td>\n",
              "      <td>0</td>\n",
              "      <td>34</td>\n",
              "      <td>7</td>\n",
              "      <td>93920.47</td>\n",
              "      <td>1</td>\n",
              "      <td>0</td>\n",
              "    </tr>\n",
              "    <tr>\n",
              "      <th>6398</th>\n",
              "      <td>0</td>\n",
              "      <td>712</td>\n",
              "      <td>0</td>\n",
              "      <td>0</td>\n",
              "      <td>29</td>\n",
              "      <td>3</td>\n",
              "      <td>87375.78</td>\n",
              "      <td>2</td>\n",
              "      <td>0</td>\n",
              "    </tr>\n",
              "    <tr>\n",
              "      <th>6399</th>\n",
              "      <td>0</td>\n",
              "      <td>487</td>\n",
              "      <td>2</td>\n",
              "      <td>0</td>\n",
              "      <td>36</td>\n",
              "      <td>1</td>\n",
              "      <td>140137.15</td>\n",
              "      <td>1</td>\n",
              "      <td>0</td>\n",
              "    </tr>\n",
              "  </tbody>\n",
              "</table>\n",
              "<p>6400 rows × 9 columns</p>\n",
              "</div>"
            ],
            "text/plain": [
              "      Exited  CreditScore  Geography  ...    Balance  NumOfProducts  IsActiveMember\n",
              "0          0          627          1  ...  139541.58              2               0\n",
              "1          0          539          0  ...       0.00              2               1\n",
              "2          0          644          1  ...  112746.54              2               0\n",
              "3          0          619          0  ...  167733.51              2               1\n",
              "4          0          641          2  ...  153316.14              1               0\n",
              "...      ...          ...        ...  ...        ...            ...             ...\n",
              "6395       0          648          2  ...       0.00              2               1\n",
              "6396       0          784          1  ...   70233.74              2               1\n",
              "6397       0          664          0  ...   93920.47              1               0\n",
              "6398       0          712          0  ...   87375.78              2               0\n",
              "6399       0          487          2  ...  140137.15              1               0\n",
              "\n",
              "[6400 rows x 9 columns]"
            ]
          },
          "metadata": {
            "tags": []
          },
          "execution_count": 195
        }
      ]
    },
    {
      "cell_type": "markdown",
      "metadata": {
        "id": "FoAld2Pri2No"
      },
      "source": [
        "Raggruppo la feature 'Age' in fasce sulla base della sua distribuzione rispetto alla label 'Exited'"
      ]
    },
    {
      "cell_type": "code",
      "metadata": {
        "colab": {
          "base_uri": "https://localhost:8080/",
          "height": 458
        },
        "id": "9HMzn0evk_-U",
        "outputId": "f7c0a45e-b924-48b4-f4b7-3e4c83b0202a"
      },
      "source": [
        "sns.displot(data=train, x=\"Age\", hue=\"Exited\",  height=6, aspect=1.5, kde = True)"
      ],
      "execution_count": 196,
      "outputs": [
        {
          "output_type": "execute_result",
          "data": {
            "text/plain": [
              "<seaborn.axisgrid.FacetGrid at 0x7f98599a1650>"
            ]
          },
          "metadata": {
            "tags": []
          },
          "execution_count": 196
        },
        {
          "output_type": "display_data",
          "data": {
            "image/png": "[encoded data removed]",
            "text/plain": [
              "<Figure size 690.375x432 with 1 Axes>"
            ]
          },
          "metadata": {
            "tags": [],
            "needs_background": "light"
          }
        }
      ]
    },
    {
      "cell_type": "code",
      "metadata": {
        "colab": {
          "base_uri": "https://localhost:8080/"
        },
        "id": "860LnmcGjKfY",
        "outputId": "a063a036-610c-49d7-ab60-d810ba9be374"
      },
      "source": [
        "#Value assignment\n",
        "train.loc[train['Age'] <=  30, 'Age'] = 0\n",
        "train.loc[(train['Age'] > 30) & (train['Age'] <=  40), 'Age'] = 1\n",
        "train.loc[(train['Age'] > 40) & (train['Age'] <=  50), 'Age'] = 2\n",
        "train.loc[(train['Age'] > 50) & (train['Age'] <=  60), 'Age'] = 3\n",
        "train.loc[train['Age'] > 60, 'Age'] = 4\n",
        "\n",
        "test.loc[test['Age'] <=  30, 'Age'] = 0\n",
        "test.loc[(test['Age'] > 30) & (test['Age'] <=  40), 'Age'] = 1\n",
        "test.loc[(test['Age'] > 40) & (test['Age'] <=  50), 'Age'] = 2\n",
        "test.loc[(test['Age'] > 50) & (test['Age'] <=  60), 'Age'] = 3\n",
        "test.loc[test['Age'] > 60, 'Age'] = 4\n",
        "\n",
        "#Check\n",
        "train.Age.unique()"
      ],
      "execution_count": 197,
      "outputs": [
        {
          "output_type": "execute_result",
          "data": {
            "text/plain": [
              "array([0, 1, 2, 4, 3])"
            ]
          },
          "metadata": {
            "tags": []
          },
          "execution_count": 197
        }
      ]
    },
    {
      "cell_type": "markdown",
      "metadata": {
        "id": "B-6a_8VbnOwu"
      },
      "source": [
        "La correlazione della feature 'Age' non ha avuto variazioni significative perciò l'aggregazione risulta superflua."
      ]
    },
    {
      "cell_type": "code",
      "metadata": {
        "colab": {
          "base_uri": "https://localhost:8080/",
          "height": 959
        },
        "id": "8CzF5wzpnHCk",
        "outputId": "4805a50a-d677-4a42-cab2-b08f03627040"
      },
      "source": [
        "#Correlation Graphic on training set\n",
        "correlation = train.corr()\n",
        "plt.figure(figsize=(17,17))\n",
        "sns.heatmap(correlation, vmax=1,  cmap='coolwarm', square=True,annot=True)\n",
        "plt.title('Correlation')\n",
        "plt.show()"
      ],
      "execution_count": 198,
      "outputs": [
        {
          "output_type": "display_data",
          "data": {
            "image/png": "[encoded data removed]",
            "text/plain": [
              "<Figure size 1224x1224 with 2 Axes>"
            ]
          },
          "metadata": {
            "tags": [],
            "needs_background": "light"
          }
        }
      ]
    },
    {
      "cell_type": "markdown",
      "metadata": {
        "id": "XSvuBNPTnzKi"
      },
      "source": [
        "Divido la label 'Exited' dal training set e test set per applicare l'algoritmo di ML."
      ]
    },
    {
      "cell_type": "code",
      "metadata": {
        "id": "Y9uRqPkbneZy"
      },
      "source": [
        "#Divide\n",
        "trainY=train['Exited']\n",
        "testY=test['Exited']\n",
        "trainX=train.drop('Exited', axis=1)\n",
        "testX=test.drop('Exited', axis=1)"
      ],
      "execution_count": 199,
      "outputs": []
    },
    {
      "cell_type": "markdown",
      "metadata": {
        "id": "JkHRUB56oUAQ"
      },
      "source": [
        "Applico il modello RandomForestClassifier che calcola una moltitudine di Decision Trees e tramite la media dei risultati ottenuti fa la previsione."
      ]
    },
    {
      "cell_type": "code",
      "metadata": {
        "colab": {
          "base_uri": "https://localhost:8080/"
        },
        "id": "0SF1_N1ZoDs2",
        "outputId": "0b2390f5-9fa5-4be7-824f-47648679c51d"
      },
      "source": [
        "#Model training and score\n",
        "forest = RandomForestClassifier()\n",
        "forest.fit(trainX, trainY)\n",
        "prediction = forest.predict(testX)\n",
        "print('Accuracy:',(accuracy_score(testY, prediction)* 100), \"%\")"
      ],
      "execution_count": 200,
      "outputs": [
        {
          "output_type": "stream",
          "text": [
            "Accuracy: 85.25 %\n"
          ],
          "name": "stdout"
        }
      ]
    }
  ]
}